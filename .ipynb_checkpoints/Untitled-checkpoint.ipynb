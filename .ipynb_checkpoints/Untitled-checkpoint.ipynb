{
 "cells": [
  {
   "cell_type": "code",
   "execution_count": 1,
   "id": "110f7f35-1864-45da-ac77-a056c598267c",
   "metadata": {},
   "outputs": [
    {
     "name": "stdout",
     "output_type": "stream",
     "text": [
      "Requirement already satisfied: requests in c:\\users\\trove\\anaconda3\\lib\\site-packages (2.31.0)\n",
      "Requirement already satisfied: charset-normalizer<4,>=2 in c:\\users\\trove\\anaconda3\\lib\\site-packages (from requests) (2.0.4)\n",
      "Requirement already satisfied: idna<4,>=2.5 in c:\\users\\trove\\anaconda3\\lib\\site-packages (from requests) (3.4)\n",
      "Requirement already satisfied: urllib3<3,>=1.21.1 in c:\\users\\trove\\anaconda3\\lib\\site-packages (from requests) (2.0.7)\n",
      "Requirement already satisfied: certifi>=2017.4.17 in c:\\users\\trove\\anaconda3\\lib\\site-packages (from requests) (2024.2.2)\n",
      "Note: you may need to restart the kernel to use updated packages.\n"
     ]
    }
   ],
   "source": [
    "pip install requests"
   ]
  },
  {
   "cell_type": "code",
   "execution_count": 2,
   "id": "8994da69-617a-41ce-9aa7-0135b2eccf56",
   "metadata": {},
   "outputs": [],
   "source": [
    "import requests"
   ]
  },
  {
   "cell_type": "code",
   "execution_count": 4,
   "id": "d83af2ff-da03-4cbe-a9e5-43583265e9d3",
   "metadata": {},
   "outputs": [],
   "source": [
    "#MXYP7UJZ1FIKNX5U"
   ]
  },
  {
   "cell_type": "code",
   "execution_count": 17,
   "id": "31b70f17-9189-4999-a9c1-c451afe80f67",
   "metadata": {},
   "outputs": [],
   "source": [
    "SBER = {}\n",
    "for i in range(1, 13):\n",
    "    m = i\n",
    "    if i // 10 == 0:\n",
    "        m = '0' + str(i)\n",
    "    else:\n",
    "        m = str(i)\n",
    "    url = f\"https://www.alphavantage.co/query?function=TIME_SERIES_INTRADAY&symbol=IBM&interval=5min&month=2023-{m}&outputsize=full&apikey=MXYP7UJZ1FIKNX5U\"\n",
    "    r = requests.get(url)\n",
    "    SBER[i] = r.json()\n",
    "\n",
    "\n"
   ]
  },
  {
   "cell_type": "code",
   "execution_count": 18,
   "id": "e6de02ac-bcf2-40b1-9d69-8c8587706eb5",
   "metadata": {},
   "outputs": [],
   "source": [
    "TCSG = {}\n",
    "for i in range(1, 13):\n",
    "    m = i\n",
    "    if i // 10 == 0:\n",
    "        m = '0' + str(i)\n",
    "    else:\n",
    "        m = str(i)\n",
    "    url = f\"https://www.alphavantage.co/query?function=TIME_SERIES_INTRADAY&symbol=IBM&interval=5min&month=2023-{m}&outputsize=full&apikey=MXYP7UJZ1FIKNX5U\"\n",
    "    r = requests.get(url)\n",
    "    TCSG[i] = r.json()"
   ]
  },
  {
   "cell_type": "code",
   "execution_count": 19,
   "id": "451ad720-313d-4180-a6c7-f403a3b01898",
   "metadata": {},
   "outputs": [],
   "source": [
    "RBI = {}\n",
    "for i in range(1, 13):\n",
    "    m = i\n",
    "    if i // 10 == 0:\n",
    "        m = '0' + str(i)\n",
    "    else:\n",
    "        m = str(i)\n",
    "    url = f\"https://www.alphavantage.co/query?function=TIME_SERIES_INTRADAY&symbol=IBM&interval=5min&month=2023-{m}&outputsize=full&apikey=MXYP7UJZ1FIKNX5U\"\n",
    "    r = requests.get(url)\n",
    "    RBI[i] = r.json()"
   ]
  },
  {
   "cell_type": "code",
   "execution_count": null,
   "id": "091a40e8-3056-4cf9-a93d-86eed09cba0b",
   "metadata": {},
   "outputs": [],
   "source": []
  }
 ],
 "metadata": {
  "kernelspec": {
   "display_name": "Python 3 (ipykernel)",
   "language": "python",
   "name": "python3"
  },
  "language_info": {
   "codemirror_mode": {
    "name": "ipython",
    "version": 3
   },
   "file_extension": ".py",
   "mimetype": "text/x-python",
   "name": "python",
   "nbconvert_exporter": "python",
   "pygments_lexer": "ipython3",
   "version": "3.11.7"
  }
 },
 "nbformat": 4,
 "nbformat_minor": 5
}
